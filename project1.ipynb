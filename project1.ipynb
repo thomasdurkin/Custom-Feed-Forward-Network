{
 "cells": [
  {
   "cell_type": "markdown",
   "id": "315e734e",
   "metadata": {},
   "source": [
    "1. Make sure you fill in all cells contain `YOUR CODE HERE` or `YOUR ANSWER HERE`.\n",
    "2. After you finished, `Restart the kernel & run` all cell in order."
   ]
  },
  {
   "cell_type": "markdown",
   "id": "7874ac4b",
   "metadata": {
    "deletable": false,
    "editable": false,
    "nbgrader": {
     "cell_type": "markdown",
     "checksum": "7328d3b709977c10d706c7fdcdcaaf45",
     "grade": false,
     "grade_id": "cell-61902e9b43fe1aa6",
     "locked": true,
     "schema_version": 3,
     "solution": false,
     "task": false
    }
   },
   "source": [
    "# Project I: Basics of Neural Network\n",
    "## Deadline: Oct 14, 11:59 pm\n",
    "\n",
    "You have learned about the basics of neural network training and testing during the class. Now let's gain hands-on experience on how to implement them! We adopt the image classification task as a proxy to check how good your model is. Concretely, this project is split into two parts:\n",
    "\n",
    "- **Part I: play with feed-forward neural network**\n",
    "    - Build your feed-forward network with different layers and activation functions\n",
    "    - Define the gradient descent function to update the parameters\n",
    "    - Adjust the learning rate to achieve better performance \n",
    "    - Run the evaluation function\n",
    "\n",
    "\n",
    "- **Part II: implement your own Convolutional Neural Network**\n",
    "    - Train the CNN and compare it with the feed-forward neural network\n",
    "\n",
    "\n",
    "Let's get started!"
   ]
  },
  {
   "cell_type": "markdown",
   "id": "1f5511f2",
   "metadata": {
    "deletable": false,
    "editable": false,
    "nbgrader": {
     "cell_type": "markdown",
     "checksum": "50c9d0dbe6381074fc313d01b19ce31a",
     "grade": false,
     "grade_id": "cell-6fde9518151c06f0",
     "locked": true,
     "schema_version": 3,
     "solution": false,
     "task": false
    }
   },
   "source": [
    "## 1. Package\n",
    "\n",
    "Let's first import all the packages that you will need.\n",
    "\n",
    "- **torch, torch.nn, torch.nn.functional** are the fundamental modules in pytorch library, supporting Python programs that facilitates building deep learning projects.\n",
    "- **torchvision** is a library for Computer Vision that goes hand in hand with PyTorch\n",
    "- **numpy** is the fundamental package for scientific computing with Python programs.\n",
    "- **matplotlib** is a library to plot graphs and images in Python.\n",
    "- **math, random** are the standard modules in Python."
   ]
  },
  {
   "cell_type": "code",
   "execution_count": 1,
   "id": "9aeb862f",
   "metadata": {
    "deletable": false,
    "editable": false,
    "nbgrader": {
     "cell_type": "code",
     "checksum": "bbc346bdb6a037e971378bba3ca48310",
     "grade": true,
     "grade_id": "cell-95d842eb9dc9d856",
     "locked": true,
     "points": 0,
     "schema_version": 3,
     "solution": false,
     "task": false
    },
    "pycharm": {
     "name": "#%%\n"
    }
   },
   "outputs": [
    {
     "name": "stdout",
     "output_type": "stream",
     "text": [
      "Import packages successfully!\n"
     ]
    }
   ],
   "source": [
    "import torch\n",
    "import torch.nn as nn\n",
    "import torch.nn.functional as F\n",
    "import torchvision\n",
    "import torchvision.transforms as transforms\n",
    "import random\n",
    "import math\n",
    "import numpy as np\n",
    "import matplotlib.pyplot as plt\n",
    "from project1_utils import *\n",
    "\n",
    "print(\"Import packages successfully!\")"
   ]
  },
  {
   "cell_type": "markdown",
   "id": "670c0b55",
   "metadata": {
    "deletable": false,
    "editable": false,
    "nbgrader": {
     "cell_type": "markdown",
     "checksum": "cc81b07f23da1a57e93b64b312300325",
     "grade": false,
     "grade_id": "cell-b528308013dd165f",
     "locked": true,
     "schema_version": 3,
     "solution": false,
     "task": false
    }
   },
   "source": [
    "A helper function is provided:\n",
    "\n",
    "```python\n",
    "def set_seed(seed):\n",
    "    \"\"\"\n",
    "    Use random seed to ensure that results are reproducible.\n",
    "    \"\"\"\n",
    "```"
   ]
  },
  {
   "cell_type": "code",
   "execution_count": 2,
   "id": "ae4d8bb5",
   "metadata": {
    "deletable": false,
    "editable": false,
    "nbgrader": {
     "cell_type": "code",
     "checksum": "0233fdb270c744b0966fad9b95fd06fa",
     "grade": true,
     "grade_id": "cell-017397b54ab692ac",
     "locked": true,
     "points": 0,
     "schema_version": 3,
     "solution": false,
     "task": false
    },
    "pycharm": {
     "name": "#%%\n"
    }
   },
   "outputs": [],
   "source": [
    "seed = 1\n",
    "set_seed(seed)"
   ]
  },
  {
   "cell_type": "markdown",
   "id": "e7a530f8",
   "metadata": {
    "deletable": false,
    "editable": false,
    "nbgrader": {
     "cell_type": "markdown",
     "checksum": "43ca57a2b2923b23634d6e3cb069efda",
     "grade": false,
     "grade_id": "cell-ff95df93105ccae5",
     "locked": true,
     "schema_version": 3,
     "solution": false,
     "task": false
    }
   },
   "source": [
    "## 2. Dataset\n",
    "\n",
    "You will use the \"cat vs. dog\" dataset for this assignment.\n",
    "\n",
    "Let's load the dataset first using pytorch dataset and loader modules."
   ]
  },
  {
   "cell_type": "code",
   "execution_count": 3,
   "id": "c63334fa",
   "metadata": {
    "deletable": false,
    "editable": false,
    "nbgrader": {
     "cell_type": "code",
     "checksum": "13c8e8f00b0979f91282fe06f2e4241e",
     "grade": true,
     "grade_id": "cell-f798e30fc96e134e",
     "locked": true,
     "points": 0,
     "schema_version": 3,
     "solution": false,
     "task": false
    }
   },
   "outputs": [
    {
     "name": "stdout",
     "output_type": "stream",
     "text": [
      "Number of training examples: 10000\n",
      "Number of testing examples: 2000\n"
     ]
    }
   ],
   "source": [
    "# the number of images in a batch\n",
    "batch_size = 32\n",
    "\n",
    "# load dataset\n",
    "trainset = dataset(path='/u/cs298/Fall2022/project1/dataset/trainset.h5')\n",
    "trainloader = torch.utils.data.DataLoader(trainset, batch_size=batch_size,\n",
    "                                          shuffle=True, num_workers=2)\n",
    "testset = dataset(path='/u/cs298/Fall2022/project1/dataset/testset.h5')\n",
    "testloader = torch.utils.data.DataLoader(testset, batch_size=batch_size,\n",
    "                                         shuffle=False, num_workers=2)\n",
    "\n",
    "# name of classes\n",
    "classes = ('cat', 'dog')\n",
    "\n",
    "print (\"Number of training examples: \" + str(trainset.length))\n",
    "print (\"Number of testing examples: \" + str(testset.length))"
   ]
  },
  {
   "cell_type": "markdown",
   "id": "bb2b51b3",
   "metadata": {
    "deletable": false,
    "editable": false,
    "nbgrader": {
     "cell_type": "markdown",
     "checksum": "e2321117efbe3ffaee6eea5560ba5352",
     "grade": false,
     "grade_id": "cell-7081b78dc3a8d0ca",
     "locked": true,
     "schema_version": 3,
     "solution": false,
     "task": false
    }
   },
   "source": [
    "Let's visualize some examples in the dataset, the tool to show images is provided as below:\n",
    "\n",
    "```python\n",
    "def imshow(images):\n",
    "    \"\"\"\n",
    "    Display the input images in a plot\n",
    "    \"\"\"\n",
    "```"
   ]
  },
  {
   "cell_type": "code",
   "execution_count": 4,
   "id": "34752a1c",
   "metadata": {
    "deletable": false,
    "editable": false,
    "nbgrader": {
     "cell_type": "code",
     "checksum": "6e922c75b1c2c40309886a987e0b9d50",
     "grade": true,
     "grade_id": "cell-1ad90426f0c574d0",
     "locked": true,
     "points": 0,
     "schema_version": 3,
     "solution": false,
     "task": false
    },
    "pycharm": {
     "name": "#%%\n"
    }
   },
   "outputs": [
    {
     "data": {
      "image/png": "[encoded data removed]",
      "text/plain": [
       "<Figure size 432x288 with 1 Axes>"
      ]
     },
     "metadata": {
      "needs_background": "light"
     },
     "output_type": "display_data"
    },
    {
     "name": "stdout",
     "output_type": "stream",
     "text": [
      "  cat   cat   cat   dog\n"
     ]
    }
   ],
   "source": [
    "# get some random training images\n",
    "dataiter = iter(trainloader)\n",
    "images, labels = dataiter.next()\n",
    "\n",
    "num_toshow = 4\n",
    "\n",
    "# show images\n",
    "imshow(torchvision.utils.make_grid(images[:num_toshow]))\n",
    "\n",
    "# print labels\n",
    "_, indexs = torch.max(labels, 1) \n",
    "print(' '.join('%5s' % classes[indexs[j]] for j in range(num_toshow)))"
   ]
  },
  {
   "cell_type": "markdown",
   "id": "45c58c54",
   "metadata": {
    "deletable": false,
    "editable": false,
    "nbgrader": {
     "cell_type": "markdown",
     "checksum": "faa6af0be51add948686ace9ca2f041f",
     "grade": false,
     "grade_id": "cell-d65c5901e6efc6e1",
     "locked": true,
     "schema_version": 3,
     "solution": false,
     "task": false
    }
   },
   "source": [
    "# Part I\n",
    "\n",
    "---\n",
    "\n",
    "## 3. Build your feedforward neural network.\n",
    "\n",
    "In this cell, you will be required to build a **three-layer multilayer perceptron (MLP)** to classify images into different categories. \n",
    "\n",
    "<!-- As we know from the class, **each layer** of a MLP can be denoted as the following mathematical operation:\n",
    "\n",
    "$$z = W^T x + b$$ $$a = \\sigma(z)$$\n",
    "\n",
    "Here, $W, b$ denote the weights and biases, and $a, \\sigma$ denote activation output and activation function, respectively.\n",
    "**The function is parameterized by $W, b$ as well as the choice of $\\sigma(\\cdot)$**.\n",
    "\n",
    "Note that it is valid for $\\sigma(\\cdot)$ to be the identity function, or $z = \\sigma(z)$.\n",
    "\n",
    "----\n",
    "\n",
    "**Question 1 (6 points):** Now, let's implement functions at the layer level to do the following:\n",
    "\n",
    "Hint: To implement $W^Tx+b$ in PyTorch, one way is to write it as `x.mm(W) + b`. -->"
   ]
  },
  {
   "cell_type": "markdown",
   "id": "5f616622",
   "metadata": {
    "deletable": false,
    "editable": false,
    "nbgrader": {
     "cell_type": "markdown",
     "checksum": "290e401fa444fe37762bec3d48da6909",
     "grade": false,
     "grade_id": "cell-5f86826cc8f017c2",
     "locked": true,
     "schema_version": 3,
     "solution": false,
     "task": false
    }
   },
   "source": [
    "The size of input images is a batch-like tensor $ X \\in \\mathbb{R}^{B \\times C \\times H \\times W}$, where $B$ denotes the batch size. Vectorize the image pixels equals to transforming into a vector $X_{vector} \\in \\mathbb{R}^{B \\times CHW}$.\n",
    "\n",
    "**Question 1 (4 points):** To process image data with feed-forward neural network, the image pixels should be vectorized. So first, implement a vectorized function (refer to lecture \"feedforward network\"). "
   ]
  },
  {
   "cell_type": "code",
   "execution_count": 5,
   "id": "284f0306",
   "metadata": {
    "deletable": false,
    "nbgrader": {
     "cell_type": "code",
     "checksum": "d4ba7091c8beb94974af923d3a821caa",
     "grade": true,
     "grade_id": "cell-1d5278bf7c8bf138",
     "locked": false,
     "points": 4,
     "schema_version": 3,
     "solution": true,
     "task": false
    }
   },
   "outputs": [],
   "source": [
    "def image_vectorization(image_batch):\n",
    "    \"\"\"\n",
    "    Input: \n",
    "        image_batch: a batch of images with shape [b, c, h, w]\n",
    "    Output: \n",
    "        vectorized_image_batch: a batch of neurons\n",
    "    \"\"\"\n",
    "    \n",
    "    # vectorize the image pixels\n",
    "    vectorized_image_batch = []\n",
    "    for image in image_batch:\n",
    "        vectorized_image_batch.append(torch.flatten(image))\n",
    "    \n",
    "    return torch.stack(vectorized_image_batch)\n",
    "    "
   ]
  },
  {
   "cell_type": "markdown",
   "id": "1059bbbb",
   "metadata": {
    "deletable": false,
    "editable": false,
    "nbgrader": {
     "cell_type": "markdown",
     "checksum": "1db4cd393cb99536cdea1d033e0c9bf4",
     "grade": false,
     "grade_id": "cell-aee10b8c60cb444f",
     "locked": true,
     "schema_version": 3,
     "solution": false,
     "task": false
    }
   },
   "source": [
    "As we know from the class, **each layer** of a MLP can be denoted as the following mathematical operation:\n",
    "\n",
    "$$z = W^T x + b$$ \n",
    "\n",
    "Here, $W, b$ denote the weights and biases. The function is **parameterized by $W, b$**.\n",
    "\n",
    "**Question 2 (4 points):** Given the desired input, output dimensions, generate the parameters $W, b$. "
   ]
  },
  {
   "cell_type": "code",
   "execution_count": 6,
   "id": "32728243",
   "metadata": {
    "deletable": false,
    "nbgrader": {
     "cell_type": "code",
     "checksum": "534aed699bf1cfd761fe20a33b87dbf9",
     "grade": true,
     "grade_id": "cell-24644c097079f609",
     "locked": false,
     "points": 4,
     "schema_version": 3,
     "solution": true,
     "task": false
    },
    "pycharm": {
     "name": "#%%\n"
    }
   },
   "outputs": [],
   "source": [
    "def get_layer_params(input_dim: int, output_dim: int):\n",
    "    \"\"\"\n",
    "    Input: \n",
    "        input_dim: number of neurons in the input\n",
    "        output_dim: number of neurons produced by the layer\n",
    "    Output: \n",
    "        a dictionary of generated parameters\n",
    "            - w: weights\n",
    "            - b: biases\n",
    "    \"\"\"\n",
    "    \n",
    "    # generate the parameters\n",
    "    w = torch.randn(input_dim, output_dim, requires_grad = True)\n",
    "    b = torch.randn(output_dim, requires_grad = True)\n",
    "    \n",
    "    return {'w': w,\n",
    "            'b': b}\n",
    "    "
   ]
  },
  {
   "cell_type": "markdown",
   "id": "8d7f1fa8",
   "metadata": {},
   "source": [
    "Following with the previous linear layer, an activation layer is required to add non-linearity to the network:\n",
    "\n",
    " $$a = \\sigma(z)$$\n",
    "\n",
    " $a, \\sigma$ denote activation output and activation function, respectively.\n",
    "The entire layer function is also **parameterized by choice of $\\sigma(\\cdot)$**.\n",
    "\n",
    "**Question 3 (4 points):** You need an activation wrapper function to support the following three activation functions (details are in the lecture slide).\n",
    "- Sigmoid\n",
    "- tanh\n",
    "- ReLU\n",
    "\n",
    "Note: don't directly call `torch.Sigmoid` and etc. Your implementation should follow their mathematical equation."
   ]
  },
  {
   "cell_type": "code",
   "execution_count": 7,
   "id": "34390a64",
   "metadata": {
    "deletable": false,
    "nbgrader": {
     "cell_type": "code",
     "checksum": "b1e48e7e30fe99b03487f3e269501a06",
     "grade": true,
     "grade_id": "cell-4cd80a23d639a9cf",
     "locked": false,
     "points": 4,
     "schema_version": 3,
     "solution": true,
     "task": false
    }
   },
   "outputs": [],
   "source": [
    "def activation_wrapper(x, activation='relu'):\n",
    "    \"\"\"\n",
    "    Input: \n",
    "        x: the input neuron values\n",
    "        activation: name of activation, could be one in ['relu', 'sigmoid', 'tanh']\n",
    "    Output: \n",
    "        a: the corresponding activated output\n",
    "    \"\"\"\n",
    "\n",
    "    if activation == 'relu':\n",
    "        for neuron in x:\n",
    "            idxs = neuron < 0\n",
    "            neuron[idxs] = 0\n",
    "        a = x\n",
    "    elif activation == 'sigmoid':\n",
    "        a = 1 / (1 + torch.exp(-x))\n",
    "    elif activation == 'tanh':\n",
    "        a = (torch.exp(-x) - torch.exp(-x)) / (torch.exp(x) + torch.exp(-x))\n",
    " \n",
    "    return a\n",
    "    "
   ]
  },
  {
   "cell_type": "markdown",
   "id": "8216ddce",
   "metadata": {
    "deletable": false,
    "editable": false,
    "nbgrader": {
     "cell_type": "markdown",
     "checksum": "8e8b4e28e72cb6de3fb0c20f631e88b4",
     "grade": false,
     "grade_id": "cell-37d560a619728dd8",
     "locked": true,
     "schema_version": 3,
     "solution": false,
     "task": false
    }
   },
   "source": [
    "**Question 4 (4 points):** Given the layer parameters $W, b$ and the choice of $\\sigma(\\cdot)$, compute the output for an MLP layer with input $x$. \n",
    "\n",
    "Hint:  `tensor.mm()` can be useful."
   ]
  },
  {
   "cell_type": "code",
   "execution_count": 8,
   "id": "c1ed6494",
   "metadata": {
    "deletable": false,
    "nbgrader": {
     "cell_type": "code",
     "checksum": "4a7ffa1779e7005c993ee1d874b9222d",
     "grade": true,
     "grade_id": "cell-3b88b8f84dd5393b",
     "locked": false,
     "points": 4,
     "schema_version": 3,
     "solution": true,
     "task": false
    }
   },
   "outputs": [],
   "source": [
    "def layer_forward_computation(x, params, activation):\n",
    "    \"\"\"\n",
    "    Input: \n",
    "        x: the input to the layer\n",
    "        params: parameters of each layer\n",
    "        activation: activation type\n",
    "    Output: \n",
    "        a: the output after the activation\n",
    "    \"\"\"\n",
    "    \n",
    "    # compute the output for layer\n",
    "    layer_output = torch.mm(x, params['w']) + params['b']\n",
    "    a = activation_wrapper(layer_output, activation)\n",
    "    \n",
    "    return a"
   ]
  },
  {
   "cell_type": "markdown",
   "id": "607eef82",
   "metadata": {
    "deletable": false,
    "editable": false,
    "nbgrader": {
     "cell_type": "markdown",
     "checksum": "cb331aebbde5d8fe52457510dc5095fd",
     "grade": false,
     "grade_id": "cell-aadf7e24fd04c923",
     "locked": true,
     "schema_version": 3,
     "solution": false,
     "task": false
    }
   },
   "source": [
    "---\n",
    "\n",
    "Back to building our three-layer MLP for classification. If you have implemented the functions above correctly,\n",
    "now the processing of putting everything together will be very easy.\n",
    "\n",
    "Just like other parts of your programming experience,\n",
    "knowing how to efficiently abstract and modularize components of your program will be critical in deep learning.\n",
    "\n",
    "**Architecture Requirement**:\n",
    "\n",
    "We now describe in details how our three-layer MLP should be built in PyTorch.\n",
    "\n",
    "1. In the dataset, the size of input image is a tensor $ X \\in \\mathbb{R}^{B \\times 3 \\times 32 \\times 32}$, where $B$ denotes the batch size.\n",
    "2. Vectorize the image pixels to a vector $X_{vector} \\in \\mathbb{R}^{B \\times 3072}$.\n",
    "3. We now begin describing the specific architecture of the model, although this is not the only design choice, and feel free to change the hidden dimensions of the parameters\n",
    "4. Layer1: set your parameters so the input is projected from $\\mathbb{R}^{B \\times 3072}$ to $\\mathbb{R}^{B \\times 256}$, use ReLU as your activation function\n",
    "5. Layer2: set your parameters so the input is projected from $\\mathbb{R}^{B \\times 256}$ to $\\mathbb{R}^{B \\times 128}$, use ReLU as your activation function\n",
    "6. Layer3: set your parameters so the input is projected from $\\mathbb{R}^{B \\times 128}$ to $\\mathbb{R}^{B \\times 2}$, use sigmoid function as your activation function\n",
    "\n",
    "---\n",
    "\n",
    "**Question 5 (4 points):** Let's build the three-layer MLP using the functions you have defined."
   ]
  },
  {
   "cell_type": "code",
   "execution_count": 9,
   "id": "b25124b1",
   "metadata": {
    "deletable": false,
    "nbgrader": {
     "cell_type": "code",
     "checksum": "13cccd4e9498d87add4227c1fb297253",
     "grade": true,
     "grade_id": "cell-46335680e32c5b0f",
     "locked": false,
     "points": 4,
     "schema_version": 3,
     "solution": true,
     "task": false
    },
    "pycharm": {
     "name": "#%%\n"
    }
   },
   "outputs": [],
   "source": [
    "layer1_params: dict = dict()\n",
    "layer2_params: dict = dict()\n",
    "layer3_params: dict = dict()\n",
    "\n",
    "def net(X, params, activations):\n",
    "    \"\"\"\n",
    "    Input: \n",
    "        X: the input images to the network\n",
    "        params: a dictionary of parameters(W and b) for the three different layers\n",
    "        activations: a dictionary of activation function names for the three different layers\n",
    "    Output: \n",
    "        output: the final output from the third layer\n",
    "    \"\"\"\n",
    "    \n",
    "    # build your network forward\n",
    "    output = image_vectorization(X)\n",
    "\n",
    "    for layer in params.keys():\n",
    "        output = layer_forward_computation(output, params[layer], activations[layer])\n",
    "\n",
    "    return output"
   ]
  },
  {
   "cell_type": "markdown",
   "id": "36679670",
   "metadata": {
    "deletable": false,
    "editable": false,
    "nbgrader": {
     "cell_type": "markdown",
     "checksum": "710dc3453a8f1ea60791abe66ba4e408",
     "grade": false,
     "grade_id": "cell-2de628ff93729043",
     "locked": true,
     "schema_version": 3,
     "solution": false,
     "task": false
    }
   },
   "source": [
    "**Question 6 (4 points):** All the required functions are defined right now. It's time to create your actual parameters and activation functions for the network."
   ]
  },
  {
   "cell_type": "code",
   "execution_count": 10,
   "id": "abe70b2d",
   "metadata": {
    "deletable": false,
    "nbgrader": {
     "cell_type": "code",
     "checksum": "cd83a048b15490dc8969afc6fc292df5",
     "grade": true,
     "grade_id": "cell-8611eb15d3df224c",
     "locked": false,
     "points": 4,
     "schema_version": 3,
     "solution": true,
     "task": false
    },
    "pycharm": {
     "name": "#%%\n"
    }
   },
   "outputs": [],
   "source": [
    "\"\"\" We prepare serval dictories to store the parameters and activations for different   \"\"\"\n",
    "layer1_params: dict = dict()\n",
    "layer2_params: dict = dict()\n",
    "layer3_params: dict = dict()\n",
    "params: dict = dict()\n",
    "activations: dict = dict()\n",
    "    \n",
    "# TODO: define your layer parameters and activations here. For example, layer1_params = ? \n",
    "# and pack your parameters with layer name, e.g., params['layer1'] = layer1_params\n",
    "\n",
    "layer1_params['input_dim'] = 3072\n",
    "layer1_params['output_dim'] = 256\n",
    "layer1_params.update(get_layer_params(layer1_params['input_dim'], layer1_params['output_dim']))\n",
    "\n",
    "layer2_params['input_dim'] = 256\n",
    "layer2_params['output_dim'] = 128\n",
    "layer2_params.update(get_layer_params(layer2_params['input_dim'], layer2_params['output_dim']))\n",
    "\n",
    "layer3_params['input_dim'] = 128\n",
    "layer3_params['output_dim'] = 2\n",
    "layer3_params.update(get_layer_params(layer3_params['input_dim'], layer3_params['output_dim']))\n",
    "\n",
    "params['layer1'] = layer1_params\n",
    "params['layer2'] = layer2_params\n",
    "params['layer3'] = layer3_params\n",
    "\n",
    "activations['layer1'] = 'relu'\n",
    "activations['layer2'] = 'relu'\n",
    "activations['layer3'] = 'sigmoid'"
   ]
  },
  {
   "cell_type": "markdown",
   "id": "9ef13176",
   "metadata": {
    "deletable": false,
    "editable": false,
    "nbgrader": {
     "cell_type": "markdown",
     "checksum": "d6df19e943fb3f604254e4c0b4ee3953",
     "grade": false,
     "grade_id": "cell-e014df9a9afed7e9",
     "locked": true,
     "schema_version": 3,
     "solution": false,
     "task": false
    }
   },
   "source": [
    "## 4. Backpropagation and optimization\n",
    "\n",
    "After finishing the forward pass, you now need to compute gradients for all Tensors with `requires_grad=True`, e.g., parameters of layer1. These gradients will be used to update parameters via gradient descent. \n",
    "\n"
   ]
  },
  {
   "cell_type": "markdown",
   "id": "70a89c01",
   "metadata": {
    "deletable": false,
    "editable": false,
    "nbgrader": {
     "cell_type": "markdown",
     "checksum": "2577dc212e328a104775317a5d20fedd",
     "grade": false,
     "grade_id": "cell-25bcd84dc444c485",
     "locked": true,
     "schema_version": 3,
     "solution": false,
     "task": false
    }
   },
   "source": [
    "In this project, we don't require you to compute the gradients. Instead, you will use the gradients computed with Pytorch `autograd` mechanism. We want you to implement the Stochastic Gradient Descent (SGD). This will help you understand how the parameters are updated during training.\n",
    "\n",
    "---\n",
    "\n",
    "Gradient descent is a way to minimize the final objective function (loss) parameterized by a model's parameter $\\theta$ by updating the parameters in the opposite direction of the gradient $\\nabla_\\theta J(\\theta)$ w.r.t to the parameters. The learning rate $\\lambda$ determines the size of the steps you take to reach a (local) minimum.\n",
    "\n",
    "However, for the vanilla gradient descent, you need to run through all the samples in your training set and update once. This will be time-consuming with large-scale datasets. We choose Stochastic Gradient Descent, which only requires a subset of training samples to update the parameters. With the popular deep learning framework, the subset usually equals to the minibatch selected during training.\n",
    "\n",
    "Now, let's look at the equation to update parameters for each layer in your network.\n",
    "\n",
    "$$\\large \\theta = \\theta - \\lambda\\cdot\\nabla_\\theta J(\\theta)$$\n",
    "\n",
    "---\n",
    "\n",
    "**Question 7 (4 points):** Following the equation above, you will use the computed gradients to update the parameters for feedforward network. Function **update_params( )** should be completed.\n",
    "\n",
    "Hint: To get gradient and operate it in PyTorch, you can call `x.grad`."
   ]
  },
  {
   "cell_type": "code",
   "execution_count": 11,
   "id": "758cceed",
   "metadata": {
    "deletable": false,
    "nbgrader": {
     "cell_type": "code",
     "checksum": "2b4f63b3e05a2bb8bb14eb8b7c7e37eb",
     "grade": true,
     "grade_id": "cell-3ace7576abd4e7f8",
     "locked": false,
     "points": 4,
     "schema_version": 3,
     "solution": true,
     "task": false
    }
   },
   "outputs": [],
   "source": [
    "def update_params(params, learning_rate):\n",
    "    \"\"\"\n",
    "    Input: \n",
    "        params: the dictornary to store all the layer parameters\n",
    "        learning_rate: the step length to update the parameters\n",
    "    Output: \n",
    "        params: the updated parameters\n",
    "    \"\"\"\n",
    "    with torch.no_grad():\n",
    "        for layer in params.keys():\n",
    "            params[layer]['w'] -= learning_rate * params[layer]['w'].grad\n",
    "            params[layer]['b'] -= learning_rate * params[layer]['b'].grad\n",
    "    \n",
    "    return params"
   ]
  },
  {
   "cell_type": "markdown",
   "id": "8026ef65",
   "metadata": {
    "deletable": false,
    "editable": false,
    "nbgrader": {
     "cell_type": "markdown",
     "checksum": "8cd4d30cf9052a7203af2ab335c38895",
     "grade": false,
     "grade_id": "cell-c487b54835c43813",
     "locked": true,
     "schema_version": 3,
     "solution": false,
     "task": false
    }
   },
   "source": [
    "Since you are updating the parameters for each batch of data iteratively, you will need to clear the gradients after each update. \n",
    "\n",
    "**Question 8 (4 points):** Complete the function **zero_grad( )** below to manually zero the gradients after updating weights. \n",
    "\n",
    "\n",
    "<!-- **Requirements:** You will need to complete the function **backprop( )** and **zero_grad( )** and implement them in the training process. \n",
    "\n",
    "Hint1: You can use `autograd` in PyTorch to compute gradients.\n",
    "\n",
    "Hint2: You should manually zero the gradients after updating weights. -->\n"
   ]
  },
  {
   "cell_type": "code",
   "execution_count": 12,
   "id": "50abdc66",
   "metadata": {
    "deletable": false,
    "nbgrader": {
     "cell_type": "code",
     "checksum": "6033ac84a5a191cb4e402eae4c7c4987",
     "grade": true,
     "grade_id": "cell-e276c24353feed3b",
     "locked": false,
     "points": 4,
     "schema_version": 3,
     "solution": true,
     "task": false
    },
    "pycharm": {
     "name": "#%%\n"
    }
   },
   "outputs": [],
   "source": [
    "def zero_grad(params):\n",
    "    \"\"\"\n",
    "    Input: \n",
    "        params: the dictornary to store all the layer parameters\n",
    "    Output: \n",
    "        params: the updated parameters with gradients clear\n",
    "    \"\"\"\n",
    "    #TODO: set the gradients with respect to parameters as zero\n",
    "    for layer in params.keys():\n",
    "        params[layer]['w'].grad = None\n",
    "        params[layer]['b'].grad = None\n",
    "    \n",
    "    return params\n",
    "    "
   ]
  },
  {
   "cell_type": "markdown",
   "id": "d96138ea",
   "metadata": {
    "deletable": false,
    "editable": false,
    "nbgrader": {
     "cell_type": "markdown",
     "checksum": "627f2464dd1662519c7a95a8c81438c6",
     "grade": false,
     "grade_id": "cell-b3fa3df7f9879872",
     "locked": true,
     "schema_version": 3,
     "solution": false,
     "task": false
    }
   },
   "source": [
    "With the function **update_params( )** and **zero_grad( )** you have defined, you can move to the backpropagation process. The process includes computing gradients, updating parameters, reset gradients, think of how to combine them.\n",
    "\n",
    "**Question 9 (4 points):** Complete the function **backprop( )** below. \n",
    "\n",
    "Hint: You can use `backward()` in PyTorch to compute gradients.\n",
    "\n",
    "<!-- **Requirements:** You will need to complete the function **backprop( )** and **zero_grad( )** and implement them in the training process. \n",
    "\n",
    "Hint1: You can use `autograd` in PyTorch to compute gradients.\n",
    "\n",
    "Hint2: You should manually zero the gradients after updating weights. -->\n"
   ]
  },
  {
   "cell_type": "code",
   "execution_count": 13,
   "id": "d41c6fff",
   "metadata": {
    "deletable": false,
    "nbgrader": {
     "cell_type": "code",
     "checksum": "9347587e1f37c138024725f5d7afda8e",
     "grade": true,
     "grade_id": "cell-fc06f560b737cec9",
     "locked": false,
     "points": 4,
     "schema_version": 3,
     "solution": true,
     "task": false
    }
   },
   "outputs": [],
   "source": [
    "def backprop(loss, params, learning_rate):\n",
    "    \"\"\"\n",
    "    Input: \n",
    "        loss: the loss tensor from the objective funtion that can be used to compute gradients\n",
    "        params: parameters of the three layers\n",
    "        learning_rate: the size of steps when updating parameters\n",
    "    Output:\n",
    "        params: parameters after one backpropogation\n",
    "    \"\"\"    \n",
    "    \n",
    "    loss.backward()\n",
    "    udpated_params = update_params(params, learning_rate)\n",
    "    params = zero_grad(udpated_params)\n",
    "\n",
    "    return params\n",
    "    "
   ]
  },
  {
   "cell_type": "markdown",
   "id": "2de02f38",
   "metadata": {
    "deletable": false,
    "editable": false,
    "nbgrader": {
     "cell_type": "markdown",
     "checksum": "4909b7f8a4bb572ce7d55d65c9286618",
     "grade": false,
     "grade_id": "cell-54f264706094e49e",
     "locked": true,
     "schema_version": 3,
     "solution": false,
     "task": false
    }
   },
   "source": [
    "\n",
    "## 5. Training loop\n",
    "\n",
    "For this binary classification task, a standard objective function **Binary Cross-Entropy Loss** is used. Related detail is given as follows:\n",
    "\n",
    "$$\\large L = -\\frac{1}{N}\\sum_{i=1}^{N}( y_i \\cdot \\log(p(y_i))+(1-y_i)\\log(1-p(y_i)))$$\n",
    "\n",
    "where $y$ is the label (1 for dog and 0 for cat in our case) and $p(y)$ is the predicted probability, here $N$ equals to the batch_size.\n",
    "\n",
    "\n",
    "A initialization function is provided to help your network converge faster.\n",
    "\n",
    "```python\n",
    "def init_params(params):\n",
    "    \"\"\"\n",
    "    Initialize the parameters of each layer\n",
    "    \"\"\"\n",
    "```"
   ]
  },
  {
   "cell_type": "markdown",
   "id": "ac75d74f",
   "metadata": {
    "deletable": false,
    "editable": false,
    "nbgrader": {
     "cell_type": "markdown",
     "checksum": "8515b8629f66b11ec06ce677c853db6f",
     "grade": false,
     "grade_id": "cell-968dae4544884930",
     "locked": true,
     "schema_version": 3,
     "solution": false,
     "task": false
    }
   },
   "source": [
    "Before moving into the training loop, it's usually a good practice to have a learning rate decay function. The reason is that when your model is training for a longer time, it's closer to the optimal convergence. Therefore, a lower learning rate will improve the learning of complex patterns.\n",
    "\n",
    "**Question 10 (4 points):** Complete the **adjust_lr** function, you can choose to decay by 0.1 every 15 epochs."
   ]
  },
  {
   "cell_type": "code",
   "execution_count": 14,
   "id": "17a057c8",
   "metadata": {
    "deletable": false,
    "nbgrader": {
     "cell_type": "code",
     "checksum": "dec0de0a4200a50cb52289dd9c2fb8b4",
     "grade": true,
     "grade_id": "cell-66c9e14d5eb9189d",
     "locked": false,
     "points": 4,
     "schema_version": 3,
     "solution": true,
     "task": false
    }
   },
   "outputs": [],
   "source": [
    "def adjust_lr(learning_rate, epoch):\n",
    "    \"\"\"\n",
    "    Input: \n",
    "        learning_rate: the input learning rate\n",
    "        epoch: which epoch you are in\n",
    "    Output:\n",
    "        learning_rate: the updated learning rate\n",
    "    \"\"\"    \n",
    "\n",
    "    if (epoch % 15 == 0):\n",
    "        learning_rate -= 0.001\n",
    "        \n",
    "    return learning_rate\n",
    "    "
   ]
  },
  {
   "cell_type": "code",
   "execution_count": 15,
   "id": "c9ed12c6",
   "metadata": {
    "deletable": false,
    "editable": false,
    "nbgrader": {
     "cell_type": "code",
     "checksum": "85d20fdd7bd1ef0b7cd90e875736c499",
     "grade": true,
     "grade_id": "cell-e6824e4b20c49f4a",
     "locked": true,
     "points": 0,
     "schema_version": 3,
     "solution": false,
     "task": false
    }
   },
   "outputs": [
    {
     "name": "stdout",
     "output_type": "stream",
     "text": [
      "[Epoch 1, Step   200] loss: 0.735\n",
      "[Epoch 2, Step   200] loss: 0.630\n",
      "[Epoch 3, Step   200] loss: 0.589\n",
      "[Epoch 4, Step   200] loss: 0.563\n",
      "[Epoch 5, Step   200] loss: 0.539\n",
      "[Epoch 6, Step   200] loss: 0.517\n",
      "[Epoch 7, Step   200] loss: 0.488\n",
      "[Epoch 8, Step   200] loss: 0.464\n",
      "[Epoch 9, Step   200] loss: 0.446\n",
      "[Epoch 10, Step   200] loss: 0.427\n",
      "[Epoch 11, Step   200] loss: 0.410\n",
      "[Epoch 12, Step   200] loss: 0.388\n",
      "[Epoch 13, Step   200] loss: 0.371\n",
      "[Epoch 14, Step   200] loss: 0.344\n",
      "[Epoch 15, Step   200] loss: 0.334\n",
      "[Epoch 16, Step   200] loss: 0.317\n",
      "[Epoch 17, Step   200] loss: 0.288\n",
      "[Epoch 18, Step   200] loss: 0.277\n",
      "[Epoch 19, Step   200] loss: 0.265\n",
      "[Epoch 20, Step   200] loss: 0.244\n",
      "[Epoch 21, Step   200] loss: 0.230\n",
      "[Epoch 22, Step   200] loss: 0.216\n",
      "[Epoch 23, Step   200] loss: 0.208\n",
      "[Epoch 24, Step   200] loss: 0.192\n",
      "[Epoch 25, Step   200] loss: 0.180\n",
      "[Epoch 26, Step   200] loss: 0.173\n",
      "[Epoch 27, Step   200] loss: 0.160\n",
      "[Epoch 28, Step   200] loss: 0.144\n",
      "[Epoch 29, Step   200] loss: 0.141\n",
      "[Epoch 30, Step   200] loss: 0.126\n",
      "Finished Training\n"
     ]
    }
   ],
   "source": [
    "# define the initial learning rate here\n",
    "learning_rate = 1e-2\n",
    "n_epochs = 30 # how many epochs to run\n",
    "\n",
    "# define loss function\n",
    "criterion = nn.BCELoss()\n",
    "\n",
    "# initialize network parameters\n",
    "init_params(params)\n",
    "    \n",
    "for epoch in range(n_epochs):  # loop over the dataset multiple times\n",
    "\n",
    "    running_loss = 0.0\n",
    "    for i, data in enumerate(trainloader, 0):\n",
    "\n",
    "        # get the inputs; data is a list of [inputs, labels]\n",
    "        inputs, labels = data\n",
    "        labels = labels.float()\n",
    "\n",
    "        # Forward \n",
    "        output = net(inputs, params, activations)\n",
    "        \n",
    "        # Compute the loss using the final output\n",
    "        loss = criterion(output, labels)\n",
    "\n",
    "        # Backpropagation\n",
    "        params = backprop(loss, params, learning_rate)\n",
    "        \n",
    "        # print statistics\n",
    "        running_loss += loss.item()\n",
    "        if i % 200 == 199:  # print every 200 mini-batches\n",
    "            print('[Epoch %d, Step %5d] loss: %.3f' %\n",
    "                  (epoch + 1, i + 1, running_loss / 200))\n",
    "            running_loss = 0.0\n",
    "            \n",
    "    # adjust learning rate\n",
    "    learning_rate = adjust_lr(learning_rate, epoch)\n",
    "print('Finished Training')"
   ]
  },
  {
   "cell_type": "markdown",
   "id": "60078912",
   "metadata": {
    "deletable": false,
    "editable": false,
    "nbgrader": {
     "cell_type": "markdown",
     "checksum": "013d59c696855d6bc7354ec2cba558af",
     "grade": false,
     "grade_id": "cell-2a7f9c550151464e",
     "locked": true,
     "schema_version": 3,
     "solution": false,
     "task": false
    }
   },
   "source": [
    "## 6. Testing"
   ]
  },
  {
   "cell_type": "code",
   "execution_count": 16,
   "id": "cb9dbfa1",
   "metadata": {
    "deletable": false,
    "editable": false,
    "nbgrader": {
     "cell_type": "code",
     "checksum": "2a8aac4443a5f12f8845d549a9c1204c",
     "grade": true,
     "grade_id": "cell-a5ef30cda9f342ab",
     "locked": true,
     "points": 0,
     "schema_version": 3,
     "solution": false,
     "task": false
    }
   },
   "outputs": [
    {
     "data": {
      "image/png": "[encoded data removed]",
      "text/plain": [
       "<Figure size 432x288 with 1 Axes>"
      ]
     },
     "metadata": {
      "needs_background": "light"
     },
     "output_type": "display_data"
    },
    {
     "name": "stdout",
     "output_type": "stream",
     "text": [
      "GroundTruth:    cat   cat   cat   cat\n",
      "Predicted:    cat   dog   dog   cat\n"
     ]
    }
   ],
   "source": [
    "dataiter = iter(testloader)\n",
    "images, labels = dataiter.next()\n",
    "\n",
    "# print images\n",
    "_, labels = torch.max(labels, 1)\n",
    "imshow(torchvision.utils.make_grid(images))\n",
    "print('GroundTruth: ', ' '.join('%5s' % classes[labels[j]] for j in range(4)))\n",
    "\n",
    "output = net(images, params, activations)\n",
    "_, predicted = torch.max(output, 1)\n",
    "\n",
    "print('Predicted: ', ' '.join('%5s' % classes[predicted[j]]\n",
    "                              for j in range(4)))"
   ]
  },
  {
   "cell_type": "markdown",
   "id": "e01d5189",
   "metadata": {
    "deletable": false,
    "editable": false,
    "nbgrader": {
     "cell_type": "markdown",
     "checksum": "0272518b30b12353d9fbd4915d58359b",
     "grade": false,
     "grade_id": "cell-9d4eb6e5d234c194",
     "locked": true,
     "schema_version": 3,
     "solution": false,
     "task": false
    }
   },
   "source": [
    "**Evaluation**: Now testing with your trained model!"
   ]
  },
  {
   "cell_type": "code",
   "execution_count": 17,
   "id": "5d45304e",
   "metadata": {
    "deletable": false,
    "editable": false,
    "nbgrader": {
     "cell_type": "code",
     "checksum": "7feb0df201f67601f3b831a78e786e33",
     "grade": true,
     "grade_id": "cell-ab0a206ec87856f5",
     "locked": true,
     "points": 0,
     "schema_version": 3,
     "solution": false,
     "task": false
    }
   },
   "outputs": [
    {
     "name": "stdout",
     "output_type": "stream",
     "text": [
      "Accuracy of the network on the 2000 test images: 60 %\n"
     ]
    }
   ],
   "source": [
    "correct = 0\n",
    "total = 0\n",
    "\n",
    "# since you're not training, you don't need to calculate the gradients for our outputs\n",
    "with torch.no_grad():\n",
    "    for data in testloader:\n",
    "        images, labels = data\n",
    "        _, labels = torch.max(labels, 1)\n",
    "        \n",
    "        # calculate outputs by running images through the network\n",
    "        output = net(images, params, activations)\n",
    "\n",
    "        # the class with the highest energy is what we choose as prediction\n",
    "        _, predicted = torch.max(output.data, 1)\n",
    "        total += labels.size(0)\n",
    "        correct += (predicted == labels).sum().item()\n",
    "\n",
    "print('Accuracy of the network on the 2000 test images: %d %%' % (\n",
    "        100 * correct / total))"
   ]
  },
  {
   "cell_type": "code",
   "execution_count": 18,
   "id": "0dda3a70",
   "metadata": {
    "deletable": false,
    "editable": false,
    "nbgrader": {
     "cell_type": "code",
     "checksum": "ac1329a33c994bf1a50c89d85f94bd8f",
     "grade": true,
     "grade_id": "cell-77cad235a42d68f5",
     "locked": true,
     "points": 0,
     "schema_version": 3,
     "solution": false,
     "task": false
    }
   },
   "outputs": [
    {
     "name": "stdout",
     "output_type": "stream",
     "text": [
      "Accuracy for class cat   is: 72.7 %\n",
      "Accuracy for class dog   is: 48.4 %\n"
     ]
    }
   ],
   "source": [
    "# prepare to count predictions for each class\n",
    "correct_pred = {classname: 0 for classname in classes}\n",
    "total_pred = {classname: 0 for classname in classes}\n",
    "\n",
    "# again no gradients needed\n",
    "with torch.no_grad():\n",
    "    for data in testloader:\n",
    "        images, labels = data\n",
    "        _, labels = torch.max(labels, 1)\n",
    "        output = net(images, params, activations)\n",
    "        _, predictions = torch.max(output, 1)\n",
    "        # collect the correct predictions for each class\n",
    "        for label, prediction in zip(labels, predictions):\n",
    "            if label == prediction:\n",
    "                correct_pred[classes[label]] += 1\n",
    "            total_pred[classes[label]] += 1\n",
    "\n",
    "# print accuracy for each class\n",
    "for classname, correct_count in correct_pred.items():\n",
    "    accuracy = 100 * float(correct_count) / total_pred[classname]\n",
    "    print(\"Accuracy for class {:5s} is: {:.1f} %\".format(classname,\n",
    "                                                         accuracy))"
   ]
  },
  {
   "cell_type": "markdown",
   "id": "23be2bff",
   "metadata": {
    "deletable": false,
    "editable": false,
    "nbgrader": {
     "cell_type": "markdown",
     "checksum": "a0daf457d2d6b94ffc8eaf4204abf259",
     "grade": false,
     "grade_id": "cell-a9fd8b383786bcf5",
     "locked": true,
     "schema_version": 3,
     "solution": false,
     "task": false
    }
   },
   "source": [
    "# Part II\n",
    "\n",
    "---\n",
    "\n",
    "## 7. Build your convolutional neural network.\n",
    "\n",
    "So far, you have tried feed-forward network on image classification, but the performance is not satisfying. Why? \n",
    "The reason is that vectorizing the images will lose some critical patterns of images, such as edges, corners, and local structures. Instead, convolutional neural network is very good at capturing these patterns. \n",
    "\n",
    "To explore this, let's build a CNN to see how good it is in image classification!\n",
    "\n",
    "---\n",
    "\n",
    "**Question 11 (8 points):** Build your CNN: You will build a two-layer CNN with a maxpooling layer in between.\n",
    "Note that one Fully-Connected (FC) layer will follow the CNN network to map image features into class features. Overall, this network is similar to the one you built above, with the first two feed-forward layers being replaced by the convolutional layers:\n",
    "\n",
    "            image -> [CNN layer 1] -> [CNN layer 2] -> vectorization -> [FC layer] -> prediction\n",
    "\n",
    "**Architecture Requirement**:\n",
    "\n",
    "1. CNN Layer1: suggests that **3 or 5** as your convolution kernel size; the number of output channels can be selected from **[16, 32, 64]**; use ReLU as your activation function\n",
    "2. CNN Layer2: suggests that **3 or 5** as your convolution kernel size; the number of output channels can be selected from **[128, 256]**; use ReLU as your activation function\n",
    "3. FC layer: set your parameters, so the input is projected from $\\mathbb{R}^{B \\times N}$ to $\\mathbb{R}^{B \\times 2}$, $N$ is defined by your CNN layers' parameters; use sigmoid function as your activation function\n",
    "\n",
    "Details and hints:\n",
    "- This time you don't need to write the whole network module. Instead, we provide `nn.Module` as a network wrapper (a base class for all neural network modules in `PyTorch` library). The parameters you defined in this module supports auto gradient computation. \n",
    "- For the convolutional layers, you can call `nn.Conv2d`. A convolutional layer usually contains a convolution, an activation and a pooling layer. You can refer to this [useful link](https://pytorch.org/docs/stable/nn.html) to find the layer you want to use.\n",
    "- Choose appropriate activation functions for all layers.\n",
    "- As you need to define the input/output dimension for an FC layer, this [tutorial](https://cs231n.github.io/convolutional-networks/) will help you understand how to calculate this."
   ]
  },
  {
   "cell_type": "code",
   "execution_count": 19,
   "id": "fa6cce6e",
   "metadata": {
    "deletable": false,
    "nbgrader": {
     "cell_type": "code",
     "checksum": "8fb18111f63f223a1c834bc891886542",
     "grade": true,
     "grade_id": "cell-85f8f7ed1b8add0e",
     "locked": false,
     "points": 8,
     "schema_version": 3,
     "solution": true,
     "task": false
    }
   },
   "outputs": [],
   "source": [
    "class Net(nn.Module):\n",
    "    def __init__(self):\n",
    "        super().__init__()\n",
    "        \n",
    "        # Define your layers here!! \n",
    "        self.layer1 = nn.Sequential(nn.Conv2d(3, 64, 3),\n",
    "                                    nn.ReLU(),\n",
    "                                    nn.MaxPool2d(2)\n",
    "                                    )\n",
    "        self.layer2 = nn.Sequential(nn.Conv2d(64, 256, 3),\n",
    "                                    torch.nn.ReLU(),\n",
    "                                    torch.nn.MaxPool2d(2)\n",
    "                                    )\n",
    "        self.layer3 = nn.Sequential(nn.Linear(256 * 6 * 6, 2),\n",
    "                                    nn.Sigmoid())\n",
    "        \n",
    "    def forward(self, x):\n",
    "        # Your forward pass with the defined layers\n",
    "        output = self.layer1(x)\n",
    "        output = self.layer2(output)\n",
    "        output = output.reshape(output.size(0), -1)\n",
    "        output = self.layer3(output)\n",
    "        return output"
   ]
  },
  {
   "cell_type": "markdown",
   "id": "4de994b4",
   "metadata": {},
   "source": [
    "**Question 12 (4 points):** Here you don't need to write in the details of updating network parameters, we provide `optim.SGD` to help you do this. However, you still need to finish the backpropagation procedure in the main training loop. \n",
    "\n",
    "Hint: the `optimizer` implement functions `step()` to update the parameters and `zero_grad()` to reset the gradients.\n",
    "\n",
    " "
   ]
  },
  {
   "cell_type": "code",
   "execution_count": 20,
   "id": "6b5ded0d",
   "metadata": {
    "deletable": false,
    "nbgrader": {
     "cell_type": "code",
     "checksum": "584db35ccf940f5b0c1c23385ccdb63b",
     "grade": true,
     "grade_id": "cell-258330ae36298fb1",
     "locked": false,
     "points": 4,
     "schema_version": 3,
     "solution": true,
     "task": false
    }
   },
   "outputs": [
    {
     "name": "stdout",
     "output_type": "stream",
     "text": [
      "[Epoch 1, Step   200] loss: 0.682\n",
      "[Epoch 2, Step   200] loss: 0.658\n",
      "[Epoch 3, Step   200] loss: 0.648\n",
      "[Epoch 4, Step   200] loss: 0.637\n",
      "[Epoch 5, Step   200] loss: 0.632\n",
      "[Epoch 6, Step   200] loss: 0.622\n",
      "[Epoch 7, Step   200] loss: 0.621\n",
      "[Epoch 8, Step   200] loss: 0.615\n",
      "[Epoch 9, Step   200] loss: 0.603\n",
      "[Epoch 10, Step   200] loss: 0.595\n",
      "[Epoch 11, Step   200] loss: 0.590\n",
      "[Epoch 12, Step   200] loss: 0.582\n",
      "[Epoch 13, Step   200] loss: 0.579\n",
      "[Epoch 14, Step   200] loss: 0.570\n",
      "[Epoch 15, Step   200] loss: 0.562\n",
      "[Epoch 16, Step   200] loss: 0.558\n",
      "[Epoch 17, Step   200] loss: 0.551\n",
      "[Epoch 18, Step   200] loss: 0.545\n",
      "[Epoch 19, Step   200] loss: 0.545\n",
      "[Epoch 20, Step   200] loss: 0.532\n",
      "[Epoch 21, Step   200] loss: 0.533\n",
      "[Epoch 22, Step   200] loss: 0.526\n",
      "[Epoch 23, Step   200] loss: 0.523\n",
      "[Epoch 24, Step   200] loss: 0.518\n",
      "[Epoch 25, Step   200] loss: 0.511\n",
      "[Epoch 26, Step   200] loss: 0.515\n",
      "[Epoch 27, Step   200] loss: 0.507\n",
      "[Epoch 28, Step   200] loss: 0.506\n",
      "[Epoch 29, Step   200] loss: 0.503\n",
      "[Epoch 30, Step   200] loss: 0.490\n",
      "Finished Training\n"
     ]
    }
   ],
   "source": [
    "# define the initial learning rate here\n",
    "learning_rate = 1e-2\n",
    "n_epochs = 30 # how many epochs to run\n",
    "# define loss function\n",
    "criterion = nn.BCELoss()\n",
    "cnn_net = Net()\n",
    "cnn_net = cnn_net.cuda()\n",
    "optimizer = torch.optim.SGD(cnn_net.parameters(), lr=learning_rate)\n",
    "\n",
    "for epoch in range(n_epochs):  # loop over the dataset multiple times\n",
    "\n",
    "    running_loss = 0.0\n",
    "    for i, data in enumerate(trainloader, 0):\n",
    "\n",
    "        # get the inputs; data is a list of [inputs, labels]\n",
    "        inputs, labels = data\n",
    "        labels = labels.float()\n",
    "        inputs = inputs.cuda()\n",
    "        labels = labels.cuda()\n",
    "\n",
    "        # Forward \n",
    "        output = cnn_net(inputs)\n",
    "        \n",
    "        # Compute the loss using the final output\n",
    "        loss = criterion(output, labels)\n",
    "\n",
    "        # Backpropagation\n",
    "        optimizer.zero_grad()\n",
    "        loss.backward()\n",
    "        optimizer.step()\n",
    "        \n",
    "        # print statistics\n",
    "        running_loss += loss.item()\n",
    "        if i % 200 == 199:  # print every 200 mini-batches\n",
    "            print('[Epoch %d, Step %5d] loss: %.3f' %\n",
    "                  (epoch + 1, i + 1, running_loss / 200))\n",
    "            running_loss = 0.0\n",
    "\n",
    "print('Finished Training')"
   ]
  },
  {
   "cell_type": "code",
   "execution_count": 21,
   "id": "9bfc52fe",
   "metadata": {},
   "outputs": [
    {
     "name": "stdout",
     "output_type": "stream",
     "text": [
      "Accuracy of the network on the 2000 test images: 74 %\n"
     ]
    }
   ],
   "source": [
    "correct = 0\n",
    "total = 0\n",
    "\n",
    "# since you're not training, you don't need to calculate the gradients for our outputs\n",
    "with torch.no_grad():\n",
    "    for data in testloader:\n",
    "        images, labels = data\n",
    "        images = images.cuda()\n",
    "        labels = labels.cuda() \n",
    "        _, labels = torch.max(labels, 1)\n",
    "        \n",
    "        # calculate outputs by running images through the network\n",
    "        output = cnn_net(images)\n",
    "\n",
    "        # the class with the highest energy is what we choose as prediction\n",
    "        _, predicted = torch.max(output.data, 1)\n",
    "        total += labels.size(0)\n",
    "        correct += (predicted == labels).sum().item()\n",
    "\n",
    "print('Accuracy of the network on the 2000 test images: %d %%' % (\n",
    "        100 * correct / total))"
   ]
  },
  {
   "cell_type": "code",
   "execution_count": 22,
   "id": "ea9d735d",
   "metadata": {},
   "outputs": [
    {
     "name": "stdout",
     "output_type": "stream",
     "text": [
      "Accuracy for class cat   is: 79.0 %\n",
      "Accuracy for class dog   is: 69.0 %\n"
     ]
    }
   ],
   "source": [
    "# prepare to count predictions for each class\n",
    "correct_pred = {classname: 0 for classname in classes}\n",
    "total_pred = {classname: 0 for classname in classes}\n",
    "\n",
    "# again no gradients needed\n",
    "with torch.no_grad():\n",
    "    for data in testloader:\n",
    "        images, labels = data\n",
    "        images = images.cuda()\n",
    "        labels = labels.cuda() \n",
    "        _, labels = torch.max(labels, 1)\n",
    "        output = cnn_net(images)\n",
    "        _, predictions = torch.max(output, 1)\n",
    "        # collect the correct predictions for each class\n",
    "        for label, prediction in zip(labels, predictions):\n",
    "            if label == prediction:\n",
    "                correct_pred[classes[label]] += 1\n",
    "            total_pred[classes[label]] += 1\n",
    "\n",
    "# print accuracy for each class\n",
    "for classname, correct_count in correct_pred.items():\n",
    "    accuracy = 100 * float(correct_count) / total_pred[classname]\n",
    "    print(\"Accuracy for class {:5s} is: {:.1f} %\".format(classname,\n",
    "                                                         accuracy))"
   ]
  },
  {
   "cell_type": "markdown",
   "id": "db386d42",
   "metadata": {},
   "source": [
    "# Submission\n",
    "1. At the menubar, click `Kernel` → `Restart & Run All`\n",
    "2. Pack the completed notebook and other project materials into a zip file and upload it via blackboard. The zip file should be named as \"[NetID]_proj1.zip\"\n",
    "\n",
    "1% deduction of late assignment total score per hour passing the deadline.\n",
    "\n",
    "We allow multiple submission attempts but only the latest submission will be considered."
   ]
  },
  {
   "cell_type": "code",
   "execution_count": null,
   "id": "6bb4b70c",
   "metadata": {},
   "outputs": [],
   "source": []
  }
 ],
 "metadata": {
  "celltoolbar": "Edit Metadata",
  "kernelspec": {
   "display_name": "Python 3",
   "language": "python",
   "name": "python3"
  },
  "language_info": {
   "codemirror_mode": {
    "name": "ipython",
    "version": 3
   },
   "file_extension": ".py",
   "mimetype": "text/x-python",
   "name": "python",
   "nbconvert_exporter": "python",
   "pygments_lexer": "ipython3",
   "version": "3.6.13"
  }
 },
 "nbformat": 4,
 "nbformat_minor": 5
}
